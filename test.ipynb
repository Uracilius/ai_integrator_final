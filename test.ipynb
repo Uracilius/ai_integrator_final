{
 "cells": [
  {
   "cell_type": "code",
   "execution_count": 5,
   "metadata": {},
   "outputs": [
    {
     "name": "stdout",
     "output_type": "stream",
     "text": [
      "Collecting summertime\n",
      "  Using cached summertime-1.2.1-py3-none-any.whl.metadata (25 kB)\n",
      "Collecting cython (from summertime)\n",
      "  Using cached Cython-3.0.10-cp312-cp312-win_amd64.whl.metadata (3.2 kB)\n",
      "Requirement already satisfied: numpy in c:\\.coding\\data science\\ai integrator\\final_project\\venv\\lib\\site-packages (from summertime) (1.26.4)\n",
      "Collecting click==7.1.2 (from summertime)\n",
      "  Using cached click-7.1.2-py2.py3-none-any.whl.metadata (2.9 kB)\n",
      "Collecting transformers~=4.5.1 (from summertime)\n",
      "  Using cached transformers-4.5.1-py3-none-any.whl.metadata (41 kB)\n",
      "INFO: pip is looking at multiple versions of summertime to determine which version is compatible with other requirements. This could take a while.\n",
      "Collecting summertime\n",
      "  Using cached summertime-1.1.0-py3-none-any.whl.metadata (22 kB)\n",
      "\n",
      "The conflict is caused by:\n",
      "    summertime 1.2.1 depends on torch~=1.8\n",
      "    summertime 1.1.0 depends on torch~=1.8\n",
      "\n",
      "To fix this you could try to:\n",
      "1. loosen the range of package versions you've specified\n",
      "2. remove package versions to allow pip attempt to solve the dependency conflict\n",
      "\n",
      "Note: you may need to restart the kernel to use updated packages.\n"
     ]
    },
    {
     "name": "stderr",
     "output_type": "stream",
     "text": [
      "ERROR: Cannot install summertime==1.1.0 and summertime==1.2.1 because these package versions have conflicting dependencies.\n",
      "ERROR: ResolutionImpossible: for help visit https://pip.pypa.io/en/latest/topics/dependency-resolution/#dealing-with-dependency-conflicts\n"
     ]
    }
   ],
   "source": [
    "import os\n",
    "api_key = os.environ[\"OPENAI_API_KEY\"]\n",
    "api_key"
   ]
  }
 ],
 "metadata": {
  "kernelspec": {
   "display_name": "venv",
   "language": "python",
   "name": "python3"
  },
  "language_info": {
   "codemirror_mode": {
    "name": "ipython",
    "version": 3
   },
   "file_extension": ".py",
   "mimetype": "text/x-python",
   "name": "python",
   "nbconvert_exporter": "python",
   "pygments_lexer": "ipython3",
   "version": "3.12.3"
  }
 },
 "nbformat": 4,
 "nbformat_minor": 2
}
